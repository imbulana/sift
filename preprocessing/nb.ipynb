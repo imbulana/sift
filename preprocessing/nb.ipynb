{
 "cells": [
  {
   "cell_type": "code",
   "execution_count": 1,
   "metadata": {},
   "outputs": [],
   "source": [
    "import pandas as pd"
   ]
  },
  {
   "cell_type": "code",
   "execution_count": 2,
   "metadata": {},
   "outputs": [],
   "source": [
    "dataset = '../datasets/ISOT'\n",
    "real = pd.read_csv(f'{dataset}/True.csv')\n",
    "fake = pd.read_csv(f'{dataset}/Fake.csv')"
   ]
  },
  {
   "cell_type": "markdown",
   "metadata": {},
   "source": [
    "#### Real News"
   ]
  },
  {
   "cell_type": "code",
   "execution_count": 3,
   "metadata": {},
   "outputs": [
    {
     "name": "stdout",
     "output_type": "stream",
     "text": [
      "<class 'pandas.core.frame.DataFrame'>\n",
      "RangeIndex: 21417 entries, 0 to 21416\n",
      "Data columns (total 4 columns):\n",
      " #   Column   Non-Null Count  Dtype \n",
      "---  ------   --------------  ----- \n",
      " 0   title    21417 non-null  object\n",
      " 1   text     21417 non-null  object\n",
      " 2   subject  21417 non-null  object\n",
      " 3   date     21417 non-null  object\n",
      "dtypes: object(4)\n",
      "memory usage: 669.4+ KB\n"
     ]
    }
   ],
   "source": [
    "real.info()"
   ]
  },
  {
   "cell_type": "code",
   "execution_count": 4,
   "metadata": {},
   "outputs": [],
   "source": [
    "# to lowercase\n",
    "real['title'] = real['title'].str.lower()\n",
    "real['text'] = real['text'].str.lower()\n",
    "real['subject'] = real['subject'].str.lower()\n",
    "real['date'] = real['date'].str.lower()"
   ]
  },
  {
   "cell_type": "code",
   "execution_count": 5,
   "metadata": {},
   "outputs": [
    {
     "data": {
      "text/plain": [
       "(np.int64(206), np.int64(225), np.int64(592))"
      ]
     },
     "execution_count": 5,
     "metadata": {},
     "output_type": "execute_result"
    }
   ],
   "source": [
    "# duplicates\n",
    "real.duplicated().sum(), real['text'].duplicated().sum(), real['title'].duplicated().sum()"
   ]
  },
  {
   "cell_type": "code",
   "execution_count": 6,
   "metadata": {},
   "outputs": [
    {
     "data": {
      "text/plain": [
       "21192"
      ]
     },
     "execution_count": 6,
     "metadata": {},
     "output_type": "execute_result"
    }
   ],
   "source": [
    "# drop rows w/ duplicated text\n",
    "real.drop_duplicates(subset='text', keep='first', inplace=True)\n",
    "real.reset_index(drop=True, inplace=True)\n",
    "len(real)"
   ]
  },
  {
   "cell_type": "code",
   "execution_count": 8,
   "metadata": {},
   "outputs": [
    {
     "data": {
      "text/plain": [
       "(np.int64(21154), np.int64(38))"
      ]
     },
     "execution_count": 8,
     "metadata": {},
     "output_type": "execute_result"
    }
   ],
   "source": [
    "# check source\n",
    "from_reuters = real['text'].apply(lambda t: 'reuters' in t)\n",
    "from_reuters.sum(), len(real) - from_reuters.sum()"
   ]
  },
  {
   "cell_type": "code",
   "execution_count": 9,
   "metadata": {},
   "outputs": [],
   "source": [
    "# add source column\n",
    "real['source'] = from_reuters.map({True: 'reuters', False: 'other'}) "
   ]
  },
  {
   "cell_type": "code",
   "execution_count": 11,
   "metadata": {},
   "outputs": [
    {
     "data": {
      "text/html": [
       "<div>\n",
       "<style scoped>\n",
       "    .dataframe tbody tr th:only-of-type {\n",
       "        vertical-align: middle;\n",
       "    }\n",
       "\n",
       "    .dataframe tbody tr th {\n",
       "        vertical-align: top;\n",
       "    }\n",
       "\n",
       "    .dataframe thead th {\n",
       "        text-align: right;\n",
       "    }\n",
       "</style>\n",
       "<table border=\"1\" class=\"dataframe\">\n",
       "  <thead>\n",
       "    <tr style=\"text-align: right;\">\n",
       "      <th></th>\n",
       "      <th>title</th>\n",
       "      <th>text</th>\n",
       "      <th>subject</th>\n",
       "      <th>date</th>\n",
       "      <th>source</th>\n",
       "    </tr>\n",
       "  </thead>\n",
       "  <tbody>\n",
       "    <tr>\n",
       "      <th>103</th>\n",
       "      <td>democratic u.s. senator seeks audit of epa chi...</td>\n",
       "      <td>washington () - the top democrat on the senate...</td>\n",
       "      <td>politicsnews</td>\n",
       "      <td>december 18, 2017</td>\n",
       "      <td>other</td>\n",
       "    </tr>\n",
       "    <tr>\n",
       "      <th>425</th>\n",
       "      <td>factbox: republicans to watch in u.s. senate t...</td>\n",
       "      <td>washington - some key u.s. senators still had ...</td>\n",
       "      <td>politicsnews</td>\n",
       "      <td>november 30, 2017</td>\n",
       "      <td>other</td>\n",
       "    </tr>\n",
       "    <tr>\n",
       "      <th>1134</th>\n",
       "      <td>gao opens door for congress to review leverage...</td>\n",
       "      <td>new york (ifr) - the investigative arm of cong...</td>\n",
       "      <td>politicsnews</td>\n",
       "      <td>october 19, 2017</td>\n",
       "      <td>other</td>\n",
       "    </tr>\n",
       "    <tr>\n",
       "      <th>3472</th>\n",
       "      <td>white house unveils list of ex-lobbyists grant...</td>\n",
       "      <td>the white house on wednesday disclosed a group...</td>\n",
       "      <td>politicsnews</td>\n",
       "      <td>june 1, 2017</td>\n",
       "      <td>other</td>\n",
       "    </tr>\n",
       "    <tr>\n",
       "      <th>4331</th>\n",
       "      <td>factbox: trump supreme court appointee to affe...</td>\n",
       "      <td>neil gorsuch, president donald trump’s appoint...</td>\n",
       "      <td>politicsnews</td>\n",
       "      <td>april 7, 2017</td>\n",
       "      <td>other</td>\n",
       "    </tr>\n",
       "  </tbody>\n",
       "</table>\n",
       "</div>"
      ],
      "text/plain": [
       "                                                  title  \\\n",
       "103   democratic u.s. senator seeks audit of epa chi...   \n",
       "425   factbox: republicans to watch in u.s. senate t...   \n",
       "1134  gao opens door for congress to review leverage...   \n",
       "3472  white house unveils list of ex-lobbyists grant...   \n",
       "4331  factbox: trump supreme court appointee to affe...   \n",
       "\n",
       "                                                   text       subject  \\\n",
       "103   washington () - the top democrat on the senate...  politicsnews   \n",
       "425   washington - some key u.s. senators still had ...  politicsnews   \n",
       "1134  new york (ifr) - the investigative arm of cong...  politicsnews   \n",
       "3472  the white house on wednesday disclosed a group...  politicsnews   \n",
       "4331  neil gorsuch, president donald trump’s appoint...  politicsnews   \n",
       "\n",
       "                    date source  \n",
       "103   december 18, 2017   other  \n",
       "425   november 30, 2017   other  \n",
       "1134   october 19, 2017   other  \n",
       "3472       june 1, 2017   other  \n",
       "4331      april 7, 2017   other  "
      ]
     },
     "execution_count": 11,
     "metadata": {},
     "output_type": "execute_result"
    }
   ],
   "source": [
    "real[real['source']!='reuters'].head()"
   ]
  },
  {
   "cell_type": "code",
   "execution_count": 12,
   "metadata": {},
   "outputs": [],
   "source": [
    "# save cleaned real dataset\n",
    "real.to_csv(f'{dataset}/real_clean.csv', index=False)"
   ]
  },
  {
   "cell_type": "markdown",
   "metadata": {},
   "source": [
    "#### Fake News"
   ]
  },
  {
   "cell_type": "code",
   "execution_count": 13,
   "metadata": {},
   "outputs": [
    {
     "name": "stdout",
     "output_type": "stream",
     "text": [
      "<class 'pandas.core.frame.DataFrame'>\n",
      "RangeIndex: 23481 entries, 0 to 23480\n",
      "Data columns (total 4 columns):\n",
      " #   Column   Non-Null Count  Dtype \n",
      "---  ------   --------------  ----- \n",
      " 0   title    23481 non-null  object\n",
      " 1   text     23481 non-null  object\n",
      " 2   subject  23481 non-null  object\n",
      " 3   date     23481 non-null  object\n",
      "dtypes: object(4)\n",
      "memory usage: 733.9+ KB\n"
     ]
    }
   ],
   "source": [
    "fake.info()"
   ]
  },
  {
   "cell_type": "code",
   "execution_count": 14,
   "metadata": {},
   "outputs": [],
   "source": [
    "# to lowercase\n",
    "fake['title'] = fake['title'].str.lower()\n",
    "fake['text'] = fake['text'].str.lower()\n",
    "fake['subject'] = fake['subject'].str.lower()\n",
    "fake['date'] = fake['date'].str.lower()"
   ]
  },
  {
   "cell_type": "code",
   "execution_count": 15,
   "metadata": {},
   "outputs": [
    {
     "data": {
      "text/plain": [
       "(np.int64(3), np.int64(6026), np.int64(5578))"
      ]
     },
     "execution_count": 15,
     "metadata": {},
     "output_type": "execute_result"
    }
   ],
   "source": [
    "# duplicates\n",
    "fake.duplicated().sum(), fake['text'].duplicated().sum(), fake['title'].duplicated().sum()"
   ]
  },
  {
   "cell_type": "code",
   "execution_count": 16,
   "metadata": {},
   "outputs": [
    {
     "data": {
      "text/plain": [
       "17455"
      ]
     },
     "execution_count": 16,
     "metadata": {},
     "output_type": "execute_result"
    }
   ],
   "source": [
    "# drop rows w/ duplicated text\n",
    "fake.drop_duplicates(subset='text', keep='first', inplace=True)\n",
    "fake.reset_index(drop=True, inplace=True)\n",
    "len(fake)"
   ]
  },
  {
   "cell_type": "code",
   "execution_count": null,
   "metadata": {},
   "outputs": [],
   "source": [
    "# find sources\n",
    "# pd.set_option('display.max_colwidth', None)\n",
    "# fake.sample(5)"
   ]
  },
  {
   "cell_type": "code",
   "execution_count": 455,
   "metadata": {},
   "outputs": [],
   "source": [
    "sources = [\n",
    "    '21st century wire', 'reason.com', 'hammond news', 'alternate current radio', '21wire',\n",
    "    'fox news', 'news360', 'the guardian', 'wfb', 'dispatch', 'the american mirror', 'ijreview',\n",
    "    'cnsnews', 'gateway pundit', 'daily mail', 'washington examiner', 'express uk', 'ktar news',\n",
    "    'cnn', 'conservative treehouse', 'daily caller', 'the blaze', 'cbc', 'tmz', 'vulture', 'kmov',\n",
    "    'the hayride', 'breitbart', 'brietbart', 'gp', 'mr. conservative', 'fox 2', 'chron', 'ap', 'abc news',\n",
    "    'the olympian', 'the hill', 'deadline', 'tampa bay', 'politico', 'wt', 'zero hedge', 'nyp',\n",
    "    'hollywood reporter', 'wxyz', 'examiner.com', 'bbc', 'la times', 'getty', 'flickr', 'screengrab',\n",
    "    'youtube', 'twitter', 'facebook', 'wall street journal', 'nbcdfw', 'nyt', 'fortune',\n",
    "    'washington free beacon', 'huffington post', 'bizpac review', 'washington times', 'sltrb',\n",
    "    'the college fix', 'eag news', 'cnbc', 'krtv', 'bpr', 'whitehouse.gov', 'mbr', 'wesh.com',\n",
    "    'screenshot', 'boston herald', 'wnd', 'wikimedia', 'politically short', 'biz pac', 'kcs', 'espn',\n",
    "    'washington post', 'national review', 'reuters', 'downtrend', 'yahoo news', 'weasel zippers',\n",
    "    'dfp', 'npr', 'page six', 'rcp', 'the federalist', 'tpm', 'the detroit news', 'wbrz', \n",
    "    'ny daily news', 'myfox8', 'palm beach post', 'mrctv', 'the bureau', 'detroit free press', \n",
    "    'moonbattery', 'radar online', 'gatestone institute', 'star tribune', 'business insider', \n",
    "    'the lonely conservative', 'mediaite', 'national enquirer', 'public domain', 'ai archives',\n",
    "    'the lid', 'ws', 'stars and stripes', \n",
    "]"
   ]
  },
  {
   "cell_type": "code",
   "execution_count": 456,
   "metadata": {},
   "outputs": [
    {
     "data": {
      "text/plain": [
       "112"
      ]
     },
     "execution_count": 456,
     "metadata": {},
     "output_type": "execute_result"
    }
   ],
   "source": [
    "len(sources)"
   ]
  },
  {
   "cell_type": "code",
   "execution_count": 457,
   "metadata": {},
   "outputs": [
    {
     "data": {
      "text/plain": [
       "source\n",
       "other           4476\n",
       "getty           3767\n",
       "ap              2308\n",
       "screenshot       706\n",
       "twitter          680\n",
       "                ... \n",
       "examiner.com       1\n",
       "wesh.com           1\n",
       "news360            1\n",
       "kcs                1\n",
       "reason.com         1\n",
       "Name: count, Length: 112, dtype: int64"
      ]
     },
     "execution_count": 457,
     "metadata": {},
     "output_type": "execute_result"
    }
   ],
   "source": [
    "def get_source(text):\n",
    "    # source mentioned at end of article?\n",
    "    for source in sources:\n",
    "            if source in text[-100:]:\n",
    "                return source\n",
    "    return 'other'\n",
    "\n",
    "fake['source'] = fake['text'].apply(get_source)\n",
    "fake['source'].value_counts()"
   ]
  },
  {
   "cell_type": "code",
   "execution_count": null,
   "metadata": {},
   "outputs": [],
   "source": [
    "fake[fake['source']=='other'].sample(3)"
   ]
  },
  {
   "cell_type": "code",
   "execution_count": 462,
   "metadata": {},
   "outputs": [],
   "source": [
    "# save cleaned fake data\n",
    "fake.to_csv(f'{dataset}/fake_clean.csv', index=False)"
   ]
  }
 ],
 "metadata": {
  "kernelspec": {
   "display_name": "base",
   "language": "python",
   "name": "python3"
  },
  "language_info": {
   "codemirror_mode": {
    "name": "ipython",
    "version": 3
   },
   "file_extension": ".py",
   "mimetype": "text/x-python",
   "name": "python",
   "nbconvert_exporter": "python",
   "pygments_lexer": "ipython3",
   "version": "3.12.2"
  }
 },
 "nbformat": 4,
 "nbformat_minor": 2
}
